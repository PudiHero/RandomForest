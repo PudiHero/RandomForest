from sklearn.ensemble import RandomForestClassifier
from sklearn import datasets
from sklearn.model_selection import train_test_split
import matplotlib.pyplot as plt
%matplotlib inline

iris = datasets.load_iris() #載入鳶尾花範例的資料
x = iris.data #抓出資料的特徵
y = iris.target #抓出資料的目標
x_train, x_test, y_train, y_test = train_test_split(x, y, test_size=0.3) #測試集:訓練集=3:7

rfc = RandomForestClassifier(n_estimators=100, n_jobs=-1, random_state=50, min_samples_leaf=10)
rfc.fit(x_train, y_train) #決策樹100棵，隨機種子固定50，每個樹枝最小資訊量10

y_predict = rfc.predict(x_test)
print(y_predict) #預測結果
rfc.score(x_test, y_test) #成功率

imp = rfc.feature_importances_ #個別重要度
print(imp)
names = iris.feature_names #個別名稱
print(names)

zip(imp, names)
imp, names = zip(*sorted(zip(imp, names)))
plt.barh(range(len(names)), imp, align='center')
plt.yticks(range(len(names)), names)
plt.xlabel('Importance of Features')
plt.ylabel('Features')
plt.title('Importance of Each Features')
plt.show()
